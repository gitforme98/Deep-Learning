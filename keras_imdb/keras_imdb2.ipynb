{
 "cells": [
  {
   "cell_type": "markdown",
   "metadata": {},
   "source": [
    "# Sentiment Analysis of imdb Movie reviews using Deep Learning (RNN)\n",
    "\n",
    "\n"
   ]
  },
  {
   "cell_type": "markdown",
   "metadata": {},
   "source": [
    "STEP 1 : Import the imdb dataset from keras"
   ]
  },
  {
   "cell_type": "code",
   "execution_count": 1,
   "metadata": {},
   "outputs": [
    {
     "name": "stderr",
     "output_type": "stream",
     "text": [
      "Using TensorFlow backend.\n"
     ]
    }
   ],
   "source": [
    "import keras\n",
    "from keras.datasets import imdb"
   ]
  },
  {
   "cell_type": "markdown",
   "metadata": {},
   "source": [
    "STEP 2 : Load the dataset into training and testing data."
   ]
  },
  {
   "cell_type": "code",
   "execution_count": 2,
   "metadata": {},
   "outputs": [],
   "source": [
    "#(movie_reviews_train, label_train), (movie_reviews_test, label_test) = imdb.load_data()"
   ]
  },
  {
   "cell_type": "markdown",
   "metadata": {},
   "source": [
    "**Information about the dataset**\n",
    "\n",
    "\n",
    "IMDB Movie reviews sentiment classification\n",
    "Dataset of 25,000 movies reviews from IMDB, labeled by sentiment (positive/negative). Reviews have been preprocessed, and each review is encoded as a sequence of word indexes (integers). For convenience, words are indexed by overall frequency in the dataset, so that for instance the integer \"3\" encodes the 3rd most frequent word in the data. This allows for quick filtering operations such as: \"only consider the top 10,000 most common words, but eliminate the top 20 most common words\".\n",
    "\n",
    "As a convention, \"0\" does not stand for a specific word, but instead is used to encode any unknown word.\n",
    "\n",
    "Usage:\n",
    "\n",
    "```python\n",
    "from keras.datasets import imdb\n",
    "\n",
    "(x_train, y_train), (x_test, y_test) = imdb.load_data(path=\"imdb.npz\",\n",
    "                                                      num_words=None,\n",
    "                                                      skip_top=0,\n",
    "                                                      maxlen=None,\n",
    "                                                      seed=113,\n",
    "                                                      start_char=1,\n",
    "                                                      oov_char=2,\n",
    "                                                      index_from=3)\n",
    "\n",
    "```\n",
    "\n",
    "**Returns:**\n",
    "\n",
    "2 tuples:\n",
    "\n",
    "**x_train, x_test**: list of sequences, which are lists of indexes (integers). If the num_words argument was specific, the maximum possible index value is num_words-1. If the maxlen argument was specified, the largest possible sequence length is maxlen.\n",
    "y_train, y_test: list of integer labels (1 or 0).\n",
    "Arguments:\n",
    "\n",
    "**path**: if you do not have the data locally (at '~/.keras/datasets/' + path), it will be downloaded to this location.\n",
    "\n",
    "**num_words**: integer or None. Top most frequent words to consider. Any less frequent word will appear as oov_char value in the sequence data.\n",
    "\n",
    "**skip_top**: integer. Top most frequent words to ignore (they will appear as oov_char value in the sequence data).\n",
    "\n",
    "**maxlen**: int. Maximum sequence length. Any longer sequence will be truncated.\n",
    "\n",
    "**seed**: int. Seed for reproducible data shuffling.\n",
    "\n",
    "**start_char**: int. The start of a sequence will be marked with this character. Set to 1 because 0 is usually the padding character.\n",
    "\n",
    "**oov_char**: int. words that were cut out because of the num_words or skip_top limit will be replaced with this character.\n",
    "\n",
    "**index_from**: int. Index actual words with this index and higher."
   ]
  },
  {
   "cell_type": "markdown",
   "metadata": {},
   "source": [
    "Use below code if any pickel error is received in running above code"
   ]
  },
  {
   "cell_type": "code",
   "execution_count": 2,
   "metadata": {},
   "outputs": [],
   "source": [
    "import numpy as np\n",
    "# save np.load\n",
    "np_load_old = np.load\n",
    "\n",
    "# modify the default parameters of np.load\n",
    "np.load = lambda *a,**k: np_load_old(*a, allow_pickle=True, **k)\n",
    "\n",
    "# call load_data with allow_pickle implicitly set to true\n",
    "(movie_review_train, label_train), (movie_review_test, label_test)= imdb.load_data(num_words = 5000)\n",
    "\n",
    "# restore np.load for future normal usage\n",
    "np.load = np_load_old"
   ]
  },
  {
   "cell_type": "markdown",
   "metadata": {},
   "source": [
    "STEP 3 : We have used train_test_split to reduce the data for training and testing"
   ]
  },
  {
   "cell_type": "code",
   "execution_count": 13,
   "metadata": {},
   "outputs": [],
   "source": [
    "from sklearn.model_selection import train_test_split\n",
    "X_train,X_test,y_train,y_test = train_test_split(movie_review_train,label_train,test_size = 0.33,random_state=42)"
   ]
  },
  {
   "cell_type": "code",
   "execution_count": 14,
   "metadata": {},
   "outputs": [
    {
     "name": "stdout",
     "output_type": "stream",
     "text": [
      "[1, 1028, 1404, 10, 10, 14, 9, 31, 7, 4, 249, 102, 126, 93, 45, 15, 606, 50, 9, 24, 31, 1653, 489, 44, 14, 20, 4, 86, 158, 234, 26, 179, 2, 36, 165, 485, 25, 8, 264, 15, 14, 22, 80, 30, 1621, 5, 80, 28, 25, 23, 4, 1289, 7, 129, 2224, 305, 25, 80, 1142, 2, 234, 2, 624, 137, 149, 2586, 5, 862, 93, 139, 521, 209, 101, 2, 4, 2144, 16, 647, 610, 40, 35, 2, 5, 69, 4, 172, 4557, 11, 275, 531, 7, 4, 2144, 1445, 105, 123, 68, 4677, 2, 1722, 18, 463, 2365, 2102, 37, 734, 83, 4, 2144, 1819, 5, 95, 630, 56, 23, 27, 2074, 11, 35, 1167, 2720, 2, 2, 276, 56, 6, 2, 239, 17, 1868, 93, 433, 34, 4, 834, 58, 2, 2, 807, 15, 739, 8, 28, 77, 398, 33, 4, 236, 786, 34, 6, 2, 2, 35, 463, 7, 14, 62, 30, 54, 59, 301, 2, 11, 141, 6, 379, 1377, 15, 12, 287, 4, 2, 7, 89, 76, 6, 406, 648, 70, 4032, 159, 12, 2, 11, 320, 417, 4, 802, 7, 14, 20, 16, 34, 230, 4, 91, 1162, 5, 2993, 15, 13, 28, 126, 110, 12, 16, 40, 4, 2, 71, 6, 762, 7, 2, 37, 69, 77, 348, 2, 34, 3368, 35, 463, 7, 14, 62, 30, 54, 75, 1087, 79, 6, 2, 7, 4, 2, 23, 2, 519, 13, 62, 2134, 15, 50, 16, 117, 8, 57, 58, 1084, 802, 14, 20, 4, 277, 16, 427, 1235, 4, 927, 71, 540, 269, 8, 987, 49, 432, 7, 1397, 114, 347, 15, 93, 4, 529, 135, 449, 1243, 305, 1106, 317, 8, 650, 49, 995, 3370, 7, 6, 2, 15, 820, 2352, 83, 4, 65, 347, 472, 50, 9, 24, 31, 1971, 11, 4, 3152, 46, 50, 15, 100, 607, 14, 20, 39, 112, 6, 2, 418, 7, 595, 10, 10, 13, 202, 14, 6, 457, 46, 7, 158, 4, 457, 112, 39, 4, 192, 15, 14, 20, 16, 4148, 23, 22, 305, 7, 1575, 6, 431, 274]\n",
      "0\n"
     ]
    }
   ],
   "source": [
    "print(X_train[0])\n",
    "print(y_train[0])"
   ]
  },
  {
   "cell_type": "markdown",
   "metadata": {},
   "source": [
    "STEP 4 : obtain maximum length of movie review"
   ]
  },
  {
   "cell_type": "code",
   "execution_count": 16,
   "metadata": {},
   "outputs": [],
   "source": [
    "max_len = max([len(items) for items in list(X_train) + list(X_test)])"
   ]
  },
  {
   "cell_type": "code",
   "execution_count": 17,
   "metadata": {},
   "outputs": [
    {
     "data": {
      "text/plain": [
       "2494"
      ]
     },
     "execution_count": 17,
     "metadata": {},
     "output_type": "execute_result"
    }
   ],
   "source": [
    "max_len"
   ]
  },
  {
   "cell_type": "markdown",
   "metadata": {},
   "source": [
    "STEP 6 : use pading to add zeroes and cut down length of movie review whose length is less and more than required constant input to network. "
   ]
  },
  {
   "cell_type": "code",
   "execution_count": 18,
   "metadata": {},
   "outputs": [],
   "source": [
    "from keras.preprocessing import sequence\n",
    "\n",
    "max_words = 500\n",
    "\n",
    "X_train = sequence.pad_sequences(X_train,max_words)\n",
    "X_test = sequence.pad_sequences(X_test,max_words)"
   ]
  },
  {
   "cell_type": "markdown",
   "metadata": {},
   "source": [
    "STEP 6 : Build Model"
   ]
  },
  {
   "cell_type": "code",
   "execution_count": 19,
   "metadata": {},
   "outputs": [],
   "source": [
    "from keras import Sequential\n",
    "from keras.layers import Embedding,LSTM,Dense,Dropout"
   ]
  },
  {
   "cell_type": "code",
   "execution_count": 20,
   "metadata": {},
   "outputs": [
    {
     "name": "stdout",
     "output_type": "stream",
     "text": [
      "WARNING:tensorflow:From C:\\Users\\Admin\\Anaconda3\\lib\\site-packages\\keras\\backend\\tensorflow_backend.py:74: The name tf.get_default_graph is deprecated. Please use tf.compat.v1.get_default_graph instead.\n",
      "\n",
      "WARNING:tensorflow:From C:\\Users\\Admin\\Anaconda3\\lib\\site-packages\\keras\\backend\\tensorflow_backend.py:517: The name tf.placeholder is deprecated. Please use tf.compat.v1.placeholder instead.\n",
      "\n",
      "WARNING:tensorflow:From C:\\Users\\Admin\\Anaconda3\\lib\\site-packages\\keras\\backend\\tensorflow_backend.py:4138: The name tf.random_uniform is deprecated. Please use tf.random.uniform instead.\n",
      "\n",
      "_________________________________________________________________\n",
      "Layer (type)                 Output Shape              Param #   \n",
      "=================================================================\n",
      "embedding_1 (Embedding)      (None, 500, 32)           160000    \n",
      "_________________________________________________________________\n",
      "lstm_1 (LSTM)                (None, 100)               53200     \n",
      "_________________________________________________________________\n",
      "dense_1 (Dense)              (None, 1)                 101       \n",
      "=================================================================\n",
      "Total params: 213,301\n",
      "Trainable params: 213,301\n",
      "Non-trainable params: 0\n",
      "_________________________________________________________________\n"
     ]
    }
   ],
   "source": [
    "embedding_size = 32\n",
    "model = Sequential()\n",
    "model.add(Embedding(5000,embedding_size,input_length=max_words))\n",
    "model.add(LSTM(100))\n",
    "model.add(Dense(1,activation='sigmoid'))\n",
    "\n",
    "model.summary()"
   ]
  },
  {
   "cell_type": "code",
   "execution_count": 21,
   "metadata": {},
   "outputs": [
    {
     "name": "stdout",
     "output_type": "stream",
     "text": [
      "WARNING:tensorflow:From C:\\Users\\Admin\\Anaconda3\\lib\\site-packages\\keras\\optimizers.py:790: The name tf.train.Optimizer is deprecated. Please use tf.compat.v1.train.Optimizer instead.\n",
      "\n",
      "WARNING:tensorflow:From C:\\Users\\Admin\\Anaconda3\\lib\\site-packages\\keras\\backend\\tensorflow_backend.py:3376: The name tf.log is deprecated. Please use tf.math.log instead.\n",
      "\n",
      "WARNING:tensorflow:From C:\\Users\\Admin\\Anaconda3\\lib\\site-packages\\tensorflow_core\\python\\ops\\nn_impl.py:183: where (from tensorflow.python.ops.array_ops) is deprecated and will be removed in a future version.\n",
      "Instructions for updating:\n",
      "Use tf.where in 2.0, which has the same broadcast rule as np.where\n"
     ]
    }
   ],
   "source": [
    "model.compile(loss='binary_crossentropy', \n",
    "             optimizer='adam', \n",
    "             metrics=['accuracy'])"
   ]
  },
  {
   "cell_type": "code",
   "execution_count": 26,
   "metadata": {},
   "outputs": [
    {
     "name": "stdout",
     "output_type": "stream",
     "text": [
      "Epoch 1/4\n",
      "16750/16750 [==============================] - 335s 20ms/step - loss: 0.3166 - acc: 0.8685\n",
      "Epoch 2/4\n",
      "16750/16750 [==============================] - 401s 24ms/step - loss: 0.2525 - acc: 0.9030\n",
      "Epoch 3/4\n",
      "16750/16750 [==============================] - 474s 28ms/step - loss: 0.2219 - acc: 0.9155\n",
      "Epoch 4/4\n",
      "16750/16750 [==============================] - 544s 32ms/step - loss: 0.1946 - acc: 0.9281\n"
     ]
    },
    {
     "data": {
      "text/plain": [
       "<keras.callbacks.History at 0x1ecbc85d2c8>"
      ]
     },
     "execution_count": 26,
     "metadata": {},
     "output_type": "execute_result"
    }
   ],
   "source": [
    "batch_size = 64\n",
    "num_epochs = 4\n",
    "model.fit(X_train, y_train, batch_size=batch_size, epochs=num_epochs)"
   ]
  },
  {
   "cell_type": "code",
   "execution_count": 27,
   "metadata": {},
   "outputs": [
    {
     "name": "stdout",
     "output_type": "stream",
     "text": [
      "8250/8250 [==============================] - 58s 7ms/step\n"
     ]
    }
   ],
   "source": [
    "score = model.evaluate(X_test,y_test)"
   ]
  },
  {
   "cell_type": "code",
   "execution_count": 30,
   "metadata": {},
   "outputs": [
    {
     "data": {
      "text/plain": [
       "0.8648484848629344"
      ]
     },
     "execution_count": 30,
     "metadata": {},
     "output_type": "execute_result"
    }
   ],
   "source": [
    "score[1]"
   ]
  },
  {
   "cell_type": "code",
   "execution_count": 32,
   "metadata": {},
   "outputs": [
    {
     "data": {
      "text/plain": [
       "['loss', 'acc']"
      ]
     },
     "execution_count": 32,
     "metadata": {},
     "output_type": "execute_result"
    }
   ],
   "source": [
    "model.metrics_names"
   ]
  }
 ],
 "metadata": {
  "kernelspec": {
   "display_name": "Python 3",
   "language": "python",
   "name": "python3"
  },
  "language_info": {
   "codemirror_mode": {
    "name": "ipython",
    "version": 3
   },
   "file_extension": ".py",
   "mimetype": "text/x-python",
   "name": "python",
   "nbconvert_exporter": "python",
   "pygments_lexer": "ipython3",
   "version": "3.7.4"
  }
 },
 "nbformat": 4,
 "nbformat_minor": 2
}
